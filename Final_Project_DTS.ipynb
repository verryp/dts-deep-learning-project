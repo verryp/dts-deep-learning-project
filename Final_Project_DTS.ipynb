{
  "nbformat": 4,
  "nbformat_minor": 0,
  "metadata": {
    "colab": {
      "name": "Final-Project-DTS.ipynb",
      "version": "0.3.2",
      "provenance": [],
      "collapsed_sections": [],
      "include_colab_link": true
    },
    "kernelspec": {
      "name": "python3",
      "display_name": "Python 3"
    },
    "accelerator": "GPU"
  },
  "cells": [
    {
      "cell_type": "markdown",
      "metadata": {
        "id": "view-in-github",
        "colab_type": "text"
      },
      "source": [
        "<a href=\"https://colab.research.google.com/github/verryp/dts-deep-learning-project/blob/master/Final_Project_DTS.ipynb\" target=\"_parent\"><img src=\"https://colab.research.google.com/assets/colab-badge.svg\" alt=\"Open In Colab\"/></a>"
      ]
    },
    {
      "cell_type": "markdown",
      "metadata": {
        "id": "-bO9SdYkGo7O",
        "colab_type": "text"
      },
      "source": [
        "## Import Library"
      ]
    },
    {
      "cell_type": "code",
      "metadata": {
        "id": "haUDs63YypCn",
        "colab_type": "code",
        "colab": {}
      },
      "source": [
        "import numpy as np\n",
        "import matplotlib.pyplot as plt\n",
        "from sklearn.model_selection import train_test_split\n",
        "\n",
        "import tensorflow as tf\n",
        "from tensorflow.keras.models import Sequential # Jenis Model\n",
        "from tensorflow.keras.layers import Dense #Sebuah lapisan untuk MLP -> bisa berupa layer input,hidden, ataupun output\n",
        "from tensorflow.keras.utils import to_categorical #Mengubah label 0-9 menjadi representasi yang bisa diproses oleh keras\n",
        "from tensorflow.keras.optimizers import Adam\n",
        "from tensorflow.keras.layers import Conv2D, MaxPooling2D, Flatten\n",
        "from tensorflow.keras.callbacks import TensorBoard\n",
        "from tensorflow.examples.tutorials.mnist import input_data #Dataset fashion mnist dari keras"
      ],
      "execution_count": 0,
      "outputs": []
    },
    {
      "cell_type": "markdown",
      "metadata": {
        "id": "auWKz__9ympc",
        "colab_type": "text"
      },
      "source": [
        "## Download Dataset"
      ]
    },
    {
      "cell_type": "code",
      "metadata": {
        "id": "B3Rz2p2i27R0",
        "colab_type": "code",
        "outputId": "cdb4f4f9-4ce8-4b10-f7aa-cb822c706a9d",
        "colab": {
          "base_uri": "https://localhost:8080/",
          "height": 802
        }
      },
      "source": [
        "!mkdir data/fashion\n",
        "!wget -O data/fashion/train-images-idx3-ubyte.gz http://fashion-mnist.s3-website.eu-central-1.amazonaws.com/train-images-idx3-ubyte.gz\n",
        "!wget -O data/fashion/train-labels-idx1-ubyte.gz http://fashion-mnist.s3-website.eu-central-1.amazonaws.com/train-labels-idx1-ubyte.gz\n",
        "!wget -O data/fashion/t10k-images-idx3-ubyte.gz http://fashion-mnist.s3-website.eu-central-1.amazonaws.com/t10k-images-idx3-ubyte.gz\n",
        "!wget -O data/fashion/t10k-labels-idx1-ubyte.gz http://fashion-mnist.s3-website.eu-central-1.amazonaws.com/t10k-labels-idx1-ubyte.gz"
      ],
      "execution_count": 0,
      "outputs": [
        {
          "output_type": "stream",
          "text": [
            "mkdir: cannot create directory ‘data/fashion’: File exists\n",
            "--2019-08-17 06:30:10--  http://fashion-mnist.s3-website.eu-central-1.amazonaws.com/train-images-idx3-ubyte.gz\n",
            "Resolving fashion-mnist.s3-website.eu-central-1.amazonaws.com (fashion-mnist.s3-website.eu-central-1.amazonaws.com)... 52.219.72.7\n",
            "Connecting to fashion-mnist.s3-website.eu-central-1.amazonaws.com (fashion-mnist.s3-website.eu-central-1.amazonaws.com)|52.219.72.7|:80... connected.\n",
            "HTTP request sent, awaiting response... 200 OK\n",
            "Length: 26421880 (25M) [binary/octet-stream]\n",
            "Saving to: ‘data/fashion/train-images-idx3-ubyte.gz’\n",
            "\n",
            "data/fashion/train- 100%[===================>]  25.20M  15.2MB/s    in 1.7s    \n",
            "\n",
            "2019-08-17 06:30:12 (15.2 MB/s) - ‘data/fashion/train-images-idx3-ubyte.gz’ saved [26421880/26421880]\n",
            "\n",
            "--2019-08-17 06:30:13--  http://fashion-mnist.s3-website.eu-central-1.amazonaws.com/train-labels-idx1-ubyte.gz\n",
            "Resolving fashion-mnist.s3-website.eu-central-1.amazonaws.com (fashion-mnist.s3-website.eu-central-1.amazonaws.com)... 52.219.72.7\n",
            "Connecting to fashion-mnist.s3-website.eu-central-1.amazonaws.com (fashion-mnist.s3-website.eu-central-1.amazonaws.com)|52.219.72.7|:80... connected.\n",
            "HTTP request sent, awaiting response... 200 OK\n",
            "Length: 29515 (29K) [binary/octet-stream]\n",
            "Saving to: ‘data/fashion/train-labels-idx1-ubyte.gz’\n",
            "\n",
            "data/fashion/train- 100%[===================>]  28.82K  --.-KB/s    in 0.1s    \n",
            "\n",
            "2019-08-17 06:30:14 (293 KB/s) - ‘data/fashion/train-labels-idx1-ubyte.gz’ saved [29515/29515]\n",
            "\n",
            "--2019-08-17 06:30:15--  http://fashion-mnist.s3-website.eu-central-1.amazonaws.com/t10k-images-idx3-ubyte.gz\n",
            "Resolving fashion-mnist.s3-website.eu-central-1.amazonaws.com (fashion-mnist.s3-website.eu-central-1.amazonaws.com)... 52.219.72.70\n",
            "Connecting to fashion-mnist.s3-website.eu-central-1.amazonaws.com (fashion-mnist.s3-website.eu-central-1.amazonaws.com)|52.219.72.70|:80... connected.\n",
            "HTTP request sent, awaiting response... 200 OK\n",
            "Length: 4422102 (4.2M) [binary/octet-stream]\n",
            "Saving to: ‘data/fashion/t10k-images-idx3-ubyte.gz’\n",
            "\n",
            "data/fashion/t10k-i 100%[===================>]   4.22M  5.31MB/s    in 0.8s    \n",
            "\n",
            "2019-08-17 06:30:16 (5.31 MB/s) - ‘data/fashion/t10k-images-idx3-ubyte.gz’ saved [4422102/4422102]\n",
            "\n",
            "--2019-08-17 06:30:19--  http://fashion-mnist.s3-website.eu-central-1.amazonaws.com/t10k-labels-idx1-ubyte.gz\n",
            "Resolving fashion-mnist.s3-website.eu-central-1.amazonaws.com (fashion-mnist.s3-website.eu-central-1.amazonaws.com)... 52.219.73.86\n",
            "Connecting to fashion-mnist.s3-website.eu-central-1.amazonaws.com (fashion-mnist.s3-website.eu-central-1.amazonaws.com)|52.219.73.86|:80... connected.\n",
            "HTTP request sent, awaiting response... 200 OK\n",
            "Length: 5148 (5.0K) [binary/octet-stream]\n",
            "Saving to: ‘data/fashion/t10k-labels-idx1-ubyte.gz’\n",
            "\n",
            "data/fashion/t10k-l 100%[===================>]   5.03K  --.-KB/s    in 0s      \n",
            "\n",
            "2019-08-17 06:30:19 (151 MB/s) - ‘data/fashion/t10k-labels-idx1-ubyte.gz’ saved [5148/5148]\n",
            "\n"
          ],
          "name": "stdout"
        }
      ]
    },
    {
      "cell_type": "markdown",
      "metadata": {
        "id": "Lop3Nf28GttM",
        "colab_type": "text"
      },
      "source": [
        "## Import Dataset"
      ]
    },
    {
      "cell_type": "code",
      "metadata": {
        "id": "F36xLTmE3yQW",
        "colab_type": "code",
        "outputId": "b1a79130-bada-4475-eea8-881388e4203f",
        "colab": {
          "base_uri": "https://localhost:8080/",
          "height": 85
        }
      },
      "source": [
        "# Import Fashion MNIST\n",
        "fashion_mnist = input_data.read_data_sets('data/fashion')"
      ],
      "execution_count": 0,
      "outputs": [
        {
          "output_type": "stream",
          "text": [
            "Extracting data/fashion/train-images-idx3-ubyte.gz\n",
            "Extracting data/fashion/train-labels-idx1-ubyte.gz\n",
            "Extracting data/fashion/t10k-images-idx3-ubyte.gz\n",
            "Extracting data/fashion/t10k-labels-idx1-ubyte.gz\n"
          ],
          "name": "stdout"
        }
      ]
    },
    {
      "cell_type": "markdown",
      "metadata": {
        "id": "xPjjx4dnGxDq",
        "colab_type": "text"
      },
      "source": [
        "## Bentuk Dataset"
      ]
    },
    {
      "cell_type": "code",
      "metadata": {
        "id": "3pSbJwny3wC7",
        "colab_type": "code",
        "outputId": "ada316b1-9a02-4659-99b8-8ec534876f3b",
        "colab": {
          "base_uri": "https://localhost:8080/",
          "height": 102
        }
      },
      "source": [
        "# Shapes of training set\n",
        "x_train, y_train = fashion_mnist.train.images, fashion_mnist.train.labels\n",
        "\n",
        "print(\"Training set (images) shape: {shape}\".format(shape=x_train.shape))\n",
        "print(\"Training set (labels) shape: {shape}\".format(shape=y_train.shape))\n",
        "\n",
        "# Shapes of test set\n",
        "x_test, y_test = fashion_mnist.test.images, fashion_mnist.test.labels\n",
        "print(\"\\nTest set (images) shape: {shape}\".format(shape=x_test.shape))\n",
        "print(\"Test set (labels) shape: {shape}\".format(shape=y_test.shape))"
      ],
      "execution_count": 87,
      "outputs": [
        {
          "output_type": "stream",
          "text": [
            "Training set (images) shape: (55000, 784)\n",
            "Training set (labels) shape: (55000,)\n",
            "\n",
            "Test set (images) shape: (10000, 784)\n",
            "Test set (labels) shape: (10000,)\n"
          ],
          "name": "stdout"
        }
      ]
    },
    {
      "cell_type": "markdown",
      "metadata": {
        "id": "5ejERq5rG-Ty",
        "colab_type": "text"
      },
      "source": [
        "## Akses data pada Dataset"
      ]
    },
    {
      "cell_type": "code",
      "metadata": {
        "id": "TVOpavIe4Eee",
        "colab_type": "code",
        "outputId": "28797389-3aea-4495-e412-4a190481af2e",
        "colab": {
          "base_uri": "https://localhost:8080/",
          "height": 270
        }
      },
      "source": [
        "# Set label dalam bentuk huruf -> agar bisa dibaca dengan baik\n",
        "class_names = {0:'T-shirt/top',\n",
        "                  1:'Trouser',\n",
        "                  2:'Pullover',\n",
        "                  3:'Dress',\n",
        "                  4:'Coat',\n",
        "                  5:'Sandal',\n",
        "                  6:'Shirt',\n",
        "                  7:'Sneaker',\n",
        "                  8:'Bag',\n",
        "                  9:'Ankle boot'}\n",
        "\n",
        "# proses menampilkan data dengan bantuan lib matplotlib\n",
        "print(\"Random 10 image dari data training : \")\n",
        "plt.figure(figsize=(15,10))\n",
        "for i in range(10):  \n",
        "    plt.subplot(5, 8, i+1)\n",
        "    plt.imshow(x_train[i].reshape((28,28)),cmap=plt.cm.binary)\n",
        "    plt.title(\"label=%s\" % class_names[y_train[i]],y=1)\n",
        "    plt.axis('off')\n",
        "plt.subplots_adjust(wspace=0.3, hspace=-0.1)\n",
        "plt.show()"
      ],
      "execution_count": 88,
      "outputs": [
        {
          "output_type": "stream",
          "text": [
            "Random 10 image dari data training : \n"
          ],
          "name": "stdout"
        },
        {
          "output_type": "display_data",
          "data": {
            "image/png": "[encoded data removed]",
            "text/plain": [
              "<Figure size 1080x720 with 10 Axes>"
            ]
          },
          "metadata": {
            "tags": []
          }
        }
      ]
    },
    {
      "cell_type": "code",
      "metadata": {
        "id": "mfbBk4bZTOSe",
        "colab_type": "code",
        "colab": {
          "base_uri": "https://localhost:8080/",
          "height": 499
        },
        "outputId": "2b9c53d4-ada1-4767-c20d-a9ba44973d34"
      },
      "source": [
        "import seaborn as sns\n",
        "\n",
        "plt.figure(figsize=(18, 8))\n",
        "sns.countplot(y_train, palette=\"deep\")\n",
        "plt.title(\"Number of Classes\")\n",
        "plt.show()"
      ],
      "execution_count": 92,
      "outputs": [
        {
          "output_type": "display_data",
          "data": {
            "image/png": "[encoded data removed]",
            "text/plain": [
              "<Figure size 1296x576 with 1 Axes>"
            ]
          },
          "metadata": {
            "tags": []
          }
        }
      ]
    },
    {
      "cell_type": "code",
      "metadata": {
        "id": "OoOq6ink1Dwx",
        "colab_type": "code",
        "outputId": "577522c9-e676-4e7a-b92c-a74e143bccdb",
        "colab": {
          "base_uri": "https://localhost:8080/",
          "height": 68
        }
      },
      "source": [
        "# preprocesssing data\n",
        "\n",
        "# x_train = x_train.reshape(x_train.shape[0], 28, 28, 1).astype('float32') / 255.0\n",
        "# x_test = x_test.reshape(x_test.shape[0], 28, 28, 1).astype('float32') / 255.0\n",
        "\n",
        "x_train = x_train.reshape(x_train.shape[0], 28, 28, 1)\n",
        "x_test = x_test.reshape(x_test.shape[0], 28, 28, 1)\n",
        "\n",
        "x_train = x_train.astype('float32')\n",
        "x_test = x_test.astype('float32')\n",
        "\n",
        "x_train /= 255\n",
        "x_test /= 255\n",
        "\n",
        "y_train = to_categorical(y_train)\n",
        "y_test = to_categorical(y_test)\n",
        "\n",
        "print('x_train shape : ', x_train.shape)\n",
        "print('Banyak gambar di x_train : ', x_train.shape[0])\n",
        "print('Banyak gambar di x_test', x_test.shape[0])"
      ],
      "execution_count": 0,
      "outputs": [
        {
          "output_type": "stream",
          "text": [
            "x_train shape :  (55000, 28, 28, 1)\n",
            "Banyak gambar di x_train :  55000\n",
            "Banyak gambar di x_test 10000\n"
          ],
          "name": "stdout"
        }
      ]
    },
    {
      "cell_type": "code",
      "metadata": {
        "id": "w-bKYBS28Gdn",
        "colab_type": "code",
        "outputId": "7b019744-78c2-4e92-bbd5-bf3a98233b2a",
        "colab": {
          "base_uri": "https://localhost:8080/",
          "height": 289
        }
      },
      "source": [
        "input_shape = (28, 28, 1)\n",
        "adam = Adam(lr=0.001)\n",
        "\n",
        "# Membuat model\n",
        "model = Sequential()\n",
        "\n",
        "model.add(Conv2D(filters=64, kernel_size=2, padding='same', activation='relu', strides=1, input_shape=input_shape))\n",
        "# Conv2D\n",
        "# - filters = jumlah node. mirip seperti Dense\n",
        "# - kernel_size = jumlah node yang bergeser. 2 artinya matrik 2x2\n",
        "# - strides = bergesernya pixel ke kanan sebanyak 1 kolom\n",
        "# - padding = merupakan garis putus (sisa/tambahan pixel dari hasil stride) untuk membantu proses perhitungan\n",
        "#       => value 'same' artinya padding akan diberikan sebagaimana hasil proses perhitungan sama dengan input \n",
        "#       => input 28x28x1 maka menjadi 28x28x64. 28x28 tidak berubah karena 'same'\n",
        "\n",
        "model.add(MaxPooling2D(pool_size=2))\n",
        "# MaxPooling2D\n",
        "# - untuk memperkecil ukuran dari Conv2D dengan cara mengambil angka tersebar untuk setiap setingan pixel matrik dalam hal ini 2x2 dalam setiap proses\n",
        "# - dapat mencegah overfitting\n",
        "\n",
        "model.add(Flatten())\n",
        "# Flatten\n",
        "# - meratakan semua output dari layer sebelumnya sehingga bisa diproses menggunakan Dense\n",
        "# - hasil output MaxPool adalah 14x14x64 dan flatten akan meratakan menjadi 12.544 sel\n",
        "model.add(Dense(10, activation='softmax'))\n",
        "model.summary()"
      ],
      "execution_count": 0,
      "outputs": [
        {
          "output_type": "stream",
          "text": [
            "Model: \"sequential_8\"\n",
            "_________________________________________________________________\n",
            "Layer (type)                 Output Shape              Param #   \n",
            "=================================================================\n",
            "conv2d_8 (Conv2D)            (None, 28, 28, 64)        320       \n",
            "_________________________________________________________________\n",
            "max_pooling2d_8 (MaxPooling2 (None, 14, 14, 64)        0         \n",
            "_________________________________________________________________\n",
            "flatten_8 (Flatten)          (None, 12544)             0         \n",
            "_________________________________________________________________\n",
            "dense_8 (Dense)              (None, 10)                125450    \n",
            "=================================================================\n",
            "Total params: 125,770\n",
            "Trainable params: 125,770\n",
            "Non-trainable params: 0\n",
            "_________________________________________________________________\n"
          ],
          "name": "stdout"
        }
      ]
    },
    {
      "cell_type": "code",
      "metadata": {
        "id": "NtpCFhn-CRDq",
        "colab_type": "code",
        "outputId": "72779c2b-6ba2-440d-8ec8-b1d7b14013c1",
        "colab": {
          "base_uri": "https://localhost:8080/",
          "height": 374
        }
      },
      "source": [
        "model.compile(loss='categorical_crossentropy', optimizer=adam, metrics=['accuracy'])\n",
        "\n",
        "# menggunakan TensorBoard\n",
        "callbacks = TensorBoard(log_dir='./Graph')\n",
        "\n",
        "# TRAINING\n",
        "\n",
        "# Training data dengan 10 epochs dan menggunakan TensorBoard Callback\n",
        "history = model.fit(x_train, y_train, epochs=10, validation_split=0.1, batch_size=128)\n",
        "\n",
        "# Menyimpan Weights\n",
        "model.save_weights('weights.h5')\n"
      ],
      "execution_count": 0,
      "outputs": [
        {
          "output_type": "stream",
          "text": [
            "Train on 49500 samples, validate on 5500 samples\n",
            "Epoch 1/10\n",
            "49500/49500 [==============================] - 3s 64us/sample - loss: 1.8777 - acc: 0.4985 - val_loss: 1.2682 - val_acc: 0.6987\n",
            "Epoch 2/10\n",
            "49500/49500 [==============================] - 3s 60us/sample - loss: 1.0022 - acc: 0.7057 - val_loss: 0.8241 - val_acc: 0.7245\n",
            "Epoch 3/10\n",
            "49500/49500 [==============================] - 3s 60us/sample - loss: 0.7666 - acc: 0.7423 - val_loss: 0.6888 - val_acc: 0.7618\n",
            "Epoch 4/10\n",
            "49500/49500 [==============================] - 3s 60us/sample - loss: 0.6759 - acc: 0.7642 - val_loss: 0.6263 - val_acc: 0.7798\n",
            "Epoch 5/10\n",
            "49500/49500 [==============================] - 3s 58us/sample - loss: 0.6235 - acc: 0.7801 - val_loss: 0.5887 - val_acc: 0.7927\n",
            "Epoch 6/10\n",
            "49500/49500 [==============================] - 3s 58us/sample - loss: 0.5866 - acc: 0.7931 - val_loss: 0.5548 - val_acc: 0.8020\n",
            "Epoch 7/10\n",
            "49500/49500 [==============================] - 3s 59us/sample - loss: 0.5579 - acc: 0.8029 - val_loss: 0.5323 - val_acc: 0.8118\n",
            "Epoch 8/10\n",
            "49500/49500 [==============================] - 3s 60us/sample - loss: 0.5350 - acc: 0.8109 - val_loss: 0.5202 - val_acc: 0.8140\n",
            "Epoch 9/10\n",
            "49500/49500 [==============================] - 3s 60us/sample - loss: 0.5168 - acc: 0.8182 - val_loss: 0.4982 - val_acc: 0.8196\n",
            "Epoch 10/10\n",
            "49500/49500 [==============================] - 3s 61us/sample - loss: 0.5017 - acc: 0.8233 - val_loss: 0.4875 - val_acc: 0.8227\n"
          ],
          "name": "stdout"
        }
      ]
    },
    {
      "cell_type": "code",
      "metadata": {
        "id": "G48FQ8rfC_Cc",
        "colab_type": "code",
        "outputId": "79acd4be-9120-4556-904b-6599101460ea",
        "colab": {
          "base_uri": "https://localhost:8080/",
          "height": 607
        }
      },
      "source": [
        "#PREDIKSI\n",
        "score = model.evaluate(x_test, y_test, verbose=0)\n",
        "print('Test Lost : ', score[0] )\n",
        "print('Test Accurary : ', score[1])\n",
        "\n",
        "\n",
        "#EVALUATING - VISUALISASI HASIL\n",
        "plt.plot(history.history['acc'])\n",
        "plt.plot(history.history['val_acc'])\n",
        "plt.title('model_accuracy VS val_accuracy')\n",
        "\n",
        "plt.ylabel('accuracy')\n",
        "plt.xlabel('epoch')\n",
        "plt.legend(['train', 'validation'], loc='upper right')\n",
        "# plt.savefig('acc_plot.png')\n",
        "plt.show()\n",
        "\n",
        "plt.plot(history.history['loss'])\n",
        "plt.plot(history.history['val_loss'])\n",
        "plt.title('model_loss VS val_loss')\n",
        "\n",
        "plt.ylabel('accuray')\n",
        "plt.xlabel('epoch')\n",
        "plt.legend(['train', 'validation'], loc = 'upper right')\n",
        "# ptl.savefig('acc_plot.png')\n",
        "plt.show()"
      ],
      "execution_count": 0,
      "outputs": [
        {
          "output_type": "stream",
          "text": [
            "Test Lost :  0.5174752257823944\n",
            "Test Accurary :  0.8138\n"
          ],
          "name": "stdout"
        },
        {
          "output_type": "display_data",
          "data": {
            "image/png": "[encoded data removed]",
            "text/plain": [
              "<Figure size 432x288 with 1 Axes>"
            ]
          },
          "metadata": {
            "tags": []
          }
        },
        {
          "output_type": "display_data",
          "data": {
            "image/png": "[encoded data removed]",
            "text/plain": [
              "<Figure size 432x288 with 1 Axes>"
            ]
          },
          "metadata": {
            "tags": []
          }
        }
      ]
    },
    {
      "cell_type": "code",
      "metadata": {
        "id": "v7FUnC4CH9hv",
        "colab_type": "code",
        "outputId": "6f2c2b47-3a26-4521-a88d-4a89f23ae787",
        "colab": {
          "base_uri": "https://localhost:8080/",
          "height": 129
        }
      },
      "source": [
        "# # testing\n",
        "# from sklearn.metrics import confusion_matrix, accuracy_score, classification_report\n",
        "\n",
        "# total_test = len(x_test)\n",
        "# correct_predic = 0\n",
        "\n",
        "# y_true = []\n",
        "# y_pred = []\n",
        "\n",
        "# for i in range (total_test):\n",
        "#   predict = model.predict(x_test[i])\n",
        "#   print(predict)\n",
        "  \n",
        "#   label = y_test[i]\n",
        "#   prediction = predict.argmax(axis=-1)\n",
        "#   print('Original label : ' + str(label))\n",
        "#   print('Original prediction : ' + str(prediction) + '\\n')\n",
        "  \n",
        "#   y_true.append(label)\n",
        "#   y_pred.append(prediction)\n",
        "  \n",
        "#   if prediction[0] == label:\n",
        "#     correct_predic += 1\n",
        "#     print('total correct prediction : ' + str(correct_predic) + '\\n')\n",
        "#     print('total incorrect prediction : ' + str(total_test - correct_predic) + '\\n')\n",
        "#     print('accuracy : ', accuracy_score(y_true, y_pred))\n",
        "#     print('classification report : \\n', classification_report(y_true, y_pred))\n",
        "#     print('confusion matrix : ', confusion_matrix(y_true, y_pred))\n",
        "    "
      ],
      "execution_count": 80,
      "outputs": [
        {
          "output_type": "error",
          "ename": "IndentationError",
          "evalue": "ignored",
          "traceback": [
            "\u001b[0;36m  File \u001b[0;32m\"<ipython-input-80-8c5f2d536b55>\"\u001b[0;36m, line \u001b[0;32m10\u001b[0m\n\u001b[0;31m    predict = model.predict(x_test.shape(1,28,28,1))\u001b[0m\n\u001b[0m    ^\u001b[0m\n\u001b[0;31mIndentationError\u001b[0m\u001b[0;31m:\u001b[0m unexpected indent\n"
          ]
        }
      ]
    },
    {
      "cell_type": "markdown",
      "metadata": {
        "id": "PbmgVss_4QoY",
        "colab_type": "text"
      },
      "source": [
        "## Sumber\n",
        "\n",
        "1.   https://github.com/zalandoresearch/fashion-mnist\n",
        "2.   https://medium.com/tensorist/classifying-fashion-articles-using-tensorflow-fashion-mnist-f22e8a04728a\n",
        "\n"
      ]
    }
  ]
}